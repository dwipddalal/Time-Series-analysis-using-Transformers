{
  "cells": [
    {
      "cell_type": "markdown",
      "metadata": {
        "id": "pQU7802QqtE4"
      },
      "source": [
        "## Importing Libraries \n"
      ]
    },
    {
      "cell_type": "code",
      "execution_count": 154,
      "metadata": {
        "id": "qrOtpRDjrSY2"
      },
      "outputs": [],
      "source": [
        "import torch\n",
        "import numpy as np\n",
        "import pandas as pd\n",
        "from sklearn.model_selection import train_test_split\n",
        "import time\n",
        "import matplotlib.pyplot as plt\n",
        "from dateutil.relativedelta import relativedelta\n",
        "from tqdm import tqdm\n",
        "import sys\n",
        "import time\n",
        "import warnings\n",
        "warnings.filterwarnings(\"ignore\")\n",
        "import logging\n",
        "logging.disable(logging.CRITICAL)\n",
        "from datetime import datetime\n",
        "from dateutil.relativedelta import relativedelta\n",
        "CUDA_LAUNCH_BLOCKING = \"1\""
      ]
    },
    {
      "cell_type": "markdown",
      "metadata": {
        "id": "hMUQEguW7dj4"
      },
      "source": [
        "## Preparing the Dataset\n"
      ]
    },
    {
      "cell_type": "markdown",
      "source": [
        " Converting the dataset to a machine feedable dataset"
      ],
      "metadata": {
        "id": "iugVcpn98SSY"
      }
    },
    {
      "cell_type": "code",
      "source": [
        "df = pd.read_csv('https://raw.githubusercontent.com/dwipdalal/bhaiyaar/main/train.csv')\n",
        "df = df.drop(columns=['Faculty', 'Course'])\n",
        "X=df['Timestep']\n",
        "X_new=[None]*90000\n",
        "for i in range(len(X)):\n",
        "  X_new[i]=int(X[i][2:6])\n",
        "given_date = '1/1/1800' \n",
        "date_format = '%d/%m/%Y'\n",
        "\n",
        "dtObj = datetime.strptime(given_date, date_format)\n",
        "for i in range(len(X)):\n",
        "  r=dtObj + relativedelta(days=i)\n",
        "  X_new[i] = r.date()\n",
        "df['New'] = X_new\n",
        "df = df.drop(columns = ['Timestep', 'Id'])\n",
        "df = df.set_index('New')"
      ],
      "metadata": {
        "id": "TnwZD-wPr_HY"
      },
      "execution_count": 155,
      "outputs": []
    },
    {
      "cell_type": "code",
      "source": [
        "df['Expected'] = df['Expected'].astype('float32')"
      ],
      "metadata": {
        "id": "50305WMA80Xf"
      },
      "execution_count": 156,
      "outputs": []
    },
    {
      "cell_type": "code",
      "source": [
        "data = df.values.astype('float32')"
      ],
      "metadata": {
        "id": "43wz3Y-x9dLw"
      },
      "execution_count": 157,
      "outputs": []
    },
    {
      "cell_type": "markdown",
      "source": [
        "#### Split the dataset into sequences, these sequences will be the input for the model and the output will be the number after the sequence."
      ],
      "metadata": {
        "id": "tA9ZKmIn94-4"
      }
    },
    {
      "cell_type": "code",
      "execution_count": 158,
      "metadata": {
        "id": "p0bQB8uOv7xT"
      },
      "outputs": [],
      "source": [
        "def split_dataset_into_seq(dataset, start_index=0, end_index=None, history_size=13, step=1):\n",
        "    data = []\n",
        "    start_index = start_index + history_size\n",
        "    if end_index is None:\n",
        "        end_index = len(dataset)\n",
        "    for i in range(start_index, end_index):\n",
        "        indices = range(i - history_size, i, step)\n",
        "        data.append(dataset[indices])\n",
        "    return np.array(data)"
      ]
    },
    {
      "cell_type": "markdown",
      "source": [
        "### Train-Val-Test Split "
      ],
      "metadata": {
        "id": "j6EP6-npBWcM"
      }
    },
    {
      "cell_type": "code",
      "execution_count": 159,
      "metadata": {
        "id": "ajb5bl5bvtkh"
      },
      "outputs": [],
      "source": [
        "def split_dataset(data, TRAIN_SPLIT=0.8, VAL_SPLIT=0.6):\n",
        "    # normalization\n",
        "    data_mean = data.mean(axis=0)\n",
        "    data_std = data.std(axis=0)\n",
        "    data = (data - data_mean) / data_std\n",
        "    stats = (data_mean, data_std)\n",
        "\n",
        "    data_in_seq = split_dataset_into_seq(data, start_index=0, end_index=None, history_size=13, step=1)\n",
        "\n",
        "    # split between validation dataset and test set:\n",
        "    train_data, val_data = train_test_split(data_in_seq, train_size=TRAIN_SPLIT, shuffle=True, random_state=123)\n",
        "    val_data, test_data = train_test_split(val_data, train_size=VAL_SPLIT, shuffle=True, random_state=123)\n",
        "\n",
        "    return train_data, val_data, test_data"
      ]
    },
    {
      "cell_type": "code",
      "execution_count": 160,
      "metadata": {
        "id": "34lFfEqjzdlB"
      },
      "outputs": [],
      "source": [
        "def split_fn(spiltttt):\n",
        "    inputs = torch.tensor(spiltttt[:, :-1, :], device=device)\n",
        "    targets = torch.tensor(spiltttt[:, 1:, :], device=device)\n",
        "    return inputs, targets"
      ]
    },
    {
      "cell_type": "code",
      "execution_count": 161,
      "metadata": {
        "id": "n1ClBYcty4jL"
      },
      "outputs": [],
      "source": [
        "def data_to_dataset(train_data, val_data, test_data, batch_size=32, target_features=list(range(1))):\n",
        "    x_train, y_train = split_fn(train_data)\n",
        "    x_val, y_val = split_fn(val_data)\n",
        "    x_test, y_test = split_fn(test_data)\n",
        "\n",
        "    train_dataset = torch.utils.data.TensorDataset(x_train, y_train)\n",
        "    val_dataset = torch.utils.data.TensorDataset(x_val, y_val)\n",
        "    test_dataset = torch.utils.data.TensorDataset(x_test, y_test)\n",
        "\n",
        "    train_loader = torch.utils.data.DataLoader(train_dataset, batch_size=batch_size)\n",
        "    val_loader = torch.utils.data.DataLoader(val_dataset, batch_size=batch_size)\n",
        "    test_loader = torch.utils.data.DataLoader(test_dataset, batch_size=batch_size)\n",
        "    return train_loader, val_loader, test_loader"
      ]
    },
    {
      "cell_type": "markdown",
      "source": [
        "### Setting up gpu as a primary device "
      ],
      "metadata": {
        "id": "sBACbInfB0EQ"
      }
    },
    {
      "cell_type": "code",
      "execution_count": 162,
      "metadata": {
        "id": "HaSnKB3eqtFO"
      },
      "outputs": [],
      "source": [
        "device = torch.device(\"cuda:0\" if torch.cuda.is_available() else \"cpu\")"
      ]
    },
    {
      "cell_type": "code",
      "execution_count": 163,
      "metadata": {
        "id": "VDzKvost8VUu",
        "colab": {
          "base_uri": "https://localhost:8080/"
        },
        "outputId": "5e5f57fe-12fe-4292-acf3-818ce56692cc"
      },
      "outputs": [
        {
          "output_type": "execute_result",
          "data": {
            "text/plain": [
              "(71989, 13, 1)"
            ]
          },
          "metadata": {},
          "execution_count": 163
        }
      ],
      "source": [
        "train_data, val_data, test_data = split_dataset(data)\n",
        "train_data.shape"
      ]
    },
    {
      "cell_type": "code",
      "source": [
        "train_dataset, val_dataset, test_dataset = data_to_dataset(train_data, val_data, test_data)"
      ],
      "metadata": {
        "id": "9bbcSB_t3dDE"
      },
      "execution_count": 164,
      "outputs": []
    },
    {
      "cell_type": "markdown",
      "metadata": {
        "id": "tGacA_fS85sz"
      },
      "source": [
        "### Implementation of the Transformer model"
      ]
    },
    {
      "cell_type": "code",
      "execution_count": 165,
      "metadata": {
        "id": "8KH-wFTB4e7I"
      },
      "outputs": [],
      "source": [
        "import torch.nn as nn\n",
        "import math\n",
        "\n",
        "class MultiHeadAttention(nn.Module):\n",
        "\n",
        "    def __init__(self, D, H):\n",
        "        super(MultiHeadAttention, self).__init__()\n",
        "        self.H = H # number of heads\n",
        "        self.D = D # dimension\n",
        "        self.wq = nn.Linear(D, D*H)\n",
        "        self.wk = nn.Linear(D, D*H)\n",
        "        self.wv = nn.Linear(D, D*H)\n",
        "        self.dense = nn.Linear(D*H, D)\n",
        "\n",
        "    def concat_heads(self, x):\n",
        "        \n",
        "        B, H, S, D = x.shape\n",
        "        x = x.permute((0, 2, 1, 3)).contiguous()  # (B, S, H, D)\n",
        "        x = x.reshape((B, S, H*D))   # (B, S, D*H)\n",
        "        return x\n",
        "\n",
        "    def split_heads(self, x):\n",
        "        \n",
        "        B, S, D_H = x.shape\n",
        "        x = x.reshape(B, S, self.H, self.D)    # (B, S, H, D)\n",
        "        x = x.permute((0, 2, 1, 3))  # (B, H, S, D)\n",
        "        return x\n",
        "\n",
        "    def forward(self, x, mask):\n",
        "\n",
        "        q = self.wq(x)  # (B, S, D*H)\n",
        "        k = self.wk(x)  # (B, S, D*H)\n",
        "        v = self.wv(x)  # (B, S, D*H)\n",
        "\n",
        "        q = self.split_heads(q)  # (B, H, S, D)\n",
        "        k = self.split_heads(k)  # (B, H, S, D)\n",
        "        v = self.split_heads(v)  # (B, H, S, D)\n",
        "\n",
        "        attention_scores = torch.matmul(q, k.transpose(-1, -2)) #(B,H,S,S)\n",
        "        attention_scores = attention_scores / math.sqrt(self.D)\n",
        "\n",
        "        if mask is not None:\n",
        "            attention_scores += (mask * -1e9)\n",
        "        \n",
        "        attention_weights = nn.Softmax(dim=-1)(attention_scores)\n",
        "        scaled_attention = torch.matmul(attention_weights, v)  # (B, H, S, D)\n",
        "        concat_attention = self.concat_heads(scaled_attention) # (B, S, D*H)\n",
        "        output = self.dense(concat_attention)  # (B, S, D)\n",
        "\n",
        "        return output, attention_weights"
      ]
    },
    {
      "cell_type": "code",
      "execution_count": 166,
      "metadata": {
        "id": "KEI03i_7qtFT",
        "colab": {
          "base_uri": "https://localhost:8080/"
        },
        "outputId": "8d782d68-eaf4-4e99-b545-754d56c756fc"
      },
      "outputs": [
        {
          "output_type": "execute_result",
          "data": {
            "text/plain": [
              "(torch.Size([9, 11, 8]), torch.Size([9, 5, 11, 11]))"
            ]
          },
          "metadata": {},
          "execution_count": 166
        }
      ],
      "source": [
        "B, S, H, D = 9, 11, 5, 8\n",
        "mha = MultiHeadAttention(D, H)\n",
        "out, att = mha.forward(torch.zeros(B, S, D), mask=None)\n",
        "out.shape, att.shape"
      ]
    },
    {
      "cell_type": "markdown",
      "source": [
        "### Positional encodings\n",
        "We use combination of sines and cosine equations for creating position encoding of the input data. Since for a time series analysis it is important to maintain the information positon of the input data values so here we use positional encodings"
      ],
      "metadata": {
        "id": "E49qo1JslB9g"
      }
    },
    {
      "cell_type": "code",
      "execution_count": 167,
      "metadata": {
        "id": "bsiqoBF15qxb"
      },
      "outputs": [],
      "source": [
        "def get_angles(pos, i, D):\n",
        "    angle_rates = 1 / np.power(10000, (2 * (i // 2)) / np.float32(D))\n",
        "    return pos * angle_rates\n",
        "\n",
        "def positional_encoding(D, position=20, dim=3, device=device):\n",
        "    angle_rads = get_angles(np.arange(position)[:, np.newaxis],\n",
        "                            np.arange(D)[np.newaxis, :],\n",
        "                            D)\n",
        "    # apply sin to even indices in the array; 2i\n",
        "    angle_rads[:, 0::2] = np.sin(angle_rads[:, 0::2])\n",
        "    # apply cos to odd indices in the array; 2i+1\n",
        "    angle_rads[:, 1::2] = np.cos(angle_rads[:, 1::2])\n",
        "    if dim == 3:\n",
        "        pos_encoding = angle_rads[np.newaxis, ...]\n",
        "    elif dim == 4:\n",
        "        pos_encoding = angle_rads[np.newaxis,np.newaxis,  ...]\n",
        "    return torch.tensor(pos_encoding, device=device)"
      ]
    },
    {
      "cell_type": "code",
      "execution_count": 168,
      "metadata": {
        "id": "ZW26NwrB6LtR"
      },
      "outputs": [],
      "source": [
        "# function that implement the look_ahead mask for masking future time steps. \n",
        "def create_look_ahead_mask(size, device=device):\n",
        "    mask = torch.ones((size, size), device=device)\n",
        "    mask = torch.triu(mask, diagonal=1)\n",
        "    return mask  # (size, size)"
      ]
    },
    {
      "cell_type": "code",
      "execution_count": 169,
      "metadata": {
        "id": "IskS98HrqtFV",
        "colab": {
          "base_uri": "https://localhost:8080/"
        },
        "outputId": "f1261279-d1c3-437f-dbc2-8c227c0e5d96"
      },
      "outputs": [
        {
          "output_type": "execute_result",
          "data": {
            "text/plain": [
              "tensor([[0., 1., 1., 1., 1., 1.],\n",
              "        [0., 0., 1., 1., 1., 1.],\n",
              "        [0., 0., 0., 1., 1., 1.],\n",
              "        [0., 0., 0., 0., 1., 1.],\n",
              "        [0., 0., 0., 0., 0., 1.],\n",
              "        [0., 0., 0., 0., 0., 0.]], device='cuda:0')"
            ]
          },
          "metadata": {},
          "execution_count": 169
        }
      ],
      "source": [
        "create_look_ahead_mask(6)"
      ]
    },
    {
      "cell_type": "markdown",
      "source": [
        "## Creating the Transformer Architecture"
      ],
      "metadata": {
        "id": "-YdLJmX5tErH"
      }
    },
    {
      "cell_type": "code",
      "execution_count": 170,
      "metadata": {
        "id": "KUalYf-dtYwb"
      },
      "outputs": [],
      "source": [
        "class TransformerLayer(nn.Module):\n",
        "    def __init__(self, D, H, hidden_mlp_dim, dropout_rate):\n",
        "        super(TransformerLayer, self).__init__()\n",
        "        self.dropout_rate = dropout_rate\n",
        "        self.mlp_hidden = nn.Linear(D, hidden_mlp_dim)\n",
        "        self.mlp_out = nn.Linear(hidden_mlp_dim, D)\n",
        "        self.layernorm1 = nn.LayerNorm(D, eps=1e-9)\n",
        "        self.layernorm2 = nn.LayerNorm(D, eps=1e-9)\n",
        "        self.dropout1 = nn.Dropout(dropout_rate)\n",
        "        self.dropout2 = nn.Dropout(dropout_rate)\n",
        "\n",
        "        self.mha = MultiHeadAttention(D, H)\n",
        "\n",
        "\n",
        "    def forward(self, x, look_ahead_mask):\n",
        "        \n",
        "        attn, attn_weights = self.mha(x, look_ahead_mask)  # (B, S, D)\n",
        "        attn = self.dropout1(attn) # (B,S,D)\n",
        "        attn = self.layernorm1(attn + x) # (B,S,D)\n",
        "\n",
        "        mlp_act = torch.relu(self.mlp_hidden(attn))\n",
        "        mlp_act = self.mlp_out(mlp_act)\n",
        "        mlp_act = self.dropout2(mlp_act)\n",
        "        \n",
        "        output = self.layernorm2(mlp_act + attn)  # (B, S, D)\n",
        "\n",
        "        return output, attn_weights"
      ]
    },
    {
      "cell_type": "code",
      "execution_count": 171,
      "metadata": {
        "id": "Q1RhWuk5qtFX",
        "colab": {
          "base_uri": "https://localhost:8080/"
        },
        "outputId": "47593eb5-7e9a-448d-c5db-a57863d4cea5"
      },
      "outputs": [
        {
          "output_type": "execute_result",
          "data": {
            "text/plain": [
              "(torch.Size([5, 7, 16]), torch.Size([5, 3, 7, 7]))"
            ]
          },
          "metadata": {},
          "execution_count": 171
        }
      ],
      "source": [
        "dl = TransformerLayer(16, 3, 32, 0.1)\n",
        "out, attn = dl(x=torch.zeros(5, 7, 16), look_ahead_mask=None)\n",
        "out.shape, attn.shape"
      ]
    },
    {
      "cell_type": "code",
      "execution_count": 172,
      "metadata": {
        "id": "04VLiWfcuD4d"
      },
      "outputs": [],
      "source": [
        "class Transformer(nn.Module):\n",
        "\n",
        "    def __init__(self, num_layers, D, H, hidden_mlp_dim, inp_features, out_features, dropout_rate):\n",
        "        super(Transformer, self).__init__()\n",
        "        self.sqrt_D = torch.tensor(math.sqrt(D))\n",
        "        self.num_layers = num_layers\n",
        "        self.input_projection = nn.Linear(inp_features, D) # multivariate input\n",
        "        self.output_projection = nn.Linear(D, out_features) # multivariate output\n",
        "        self.pos_encoding = positional_encoding(D)\n",
        "        self.dec_layers = nn.ModuleList([TransformerLayer(D, H, hidden_mlp_dim, \n",
        "                                        dropout_rate=dropout_rate\n",
        "                                       ) for _ in range(num_layers)])\n",
        "        self.dropout = nn.Dropout(dropout_rate)\n",
        "\n",
        "    def forward(self, x, mask):\n",
        "        B, S, D = x.shape\n",
        "        attention_weights = {}\n",
        "        x = self.input_projection(x)\n",
        "        x *= self.sqrt_D\n",
        "        \n",
        "        x += self.pos_encoding[:, :S, :]\n",
        "\n",
        "        x = self.dropout(x)\n",
        "\n",
        "        for i in range(self.num_layers):\n",
        "            x, block = self.dec_layers[i](x=x,\n",
        "                                          look_ahead_mask=mask)\n",
        "            attention_weights['decoder_layer{}'.format(i + 1)] = block\n",
        "        \n",
        "        x = self.output_projection(x)\n",
        "        \n",
        "        return x, attention_weights # (B,S,S)"
      ]
    },
    {
      "cell_type": "code",
      "execution_count": 173,
      "metadata": {
        "id": "qD8WG0B--V1x",
        "colab": {
          "base_uri": "https://localhost:8080/"
        },
        "outputId": "f736624c-c5d7-4d4d-abd1-5a046e089fdf"
      },
      "outputs": [
        {
          "output_type": "execute_result",
          "data": {
            "text/plain": [
              "(torch.Size([32, 12, 1]), torch.Size([32, 1, 12, 12]))"
            ]
          },
          "metadata": {},
          "execution_count": 173
        }
      ],
      "source": [
        "# Test Forward pass on the Transformer: \n",
        "transformer = Transformer(num_layers=3, D=32, H=1, hidden_mlp_dim=32,\n",
        "                                       inp_features=1, out_features=1, dropout_rate=0.1)\n",
        "transformer.to(device)\n",
        "(inputs, targets) = next(iter(train_dataset))\n",
        "                         \n",
        "S = inputs.shape[1]\n",
        "mask = create_look_ahead_mask(S)\n",
        "out, attn = transformer (x=inputs.float(), mask=mask)\n",
        "out.shape, attn[\"decoder_layer1\"].shape"
      ]
    },
    {
      "cell_type": "markdown",
      "metadata": {
        "id": "WzrZUFZz6ia_"
      },
      "source": [
        "## Training the Transformer"
      ]
    },
    {
      "cell_type": "code",
      "execution_count": 174,
      "metadata": {
        "id": "SrjpXIu_qtFa",
        "colab": {
          "base_uri": "https://localhost:8080/"
        },
        "outputId": "f4b3f631-41b0-42f2-f874-51de21627619"
      },
      "outputs": [
        {
          "output_type": "stream",
          "name": "stdout",
          "text": [
            "for a total of 19489 parameters \n"
          ]
        }
      ],
      "source": [
        "param_sizes = [p.numel() for p in transformer.parameters()]\n",
        "print(f\"for a total of {np.sum(param_sizes)} parameters \")"
      ]
    },
    {
      "cell_type": "code",
      "execution_count": 175,
      "metadata": {
        "id": "xykEvm_lqtFa"
      },
      "outputs": [],
      "source": [
        "transformer = Transformer(num_layers=3, D=32, H=4, hidden_mlp_dim=32, inp_features=1, out_features=1, dropout_rate=0.1).to(device)\n",
        "optimizer = torch.optim.RMSprop(transformer.parameters(),lr=0.00005)"
      ]
    },
    {
      "cell_type": "code",
      "execution_count": 189,
      "metadata": {
        "id": "TGFMmF51qtFb",
        "colab": {
          "base_uri": "https://localhost:8080/"
        },
        "outputId": "71a65415-6114-4774-aae3-d90782a92d30"
      },
      "outputs": [
        {
          "output_type": "stream",
          "name": "stderr",
          "text": [
            "100%|██████████| 2/2 [00:40<00:00, 20.27s/it]\n"
          ]
        }
      ],
      "source": [
        "n_epochs = 9\n",
        "niter = len(train_dataset)\n",
        "losses, val_losses = [], []\n",
        "\n",
        "for e in tqdm(range(n_epochs)):\n",
        "    \n",
        "    # one epoch on train set\n",
        "    transformer.train()\n",
        "    sum_train_loss = 0.0\n",
        "    for x,y in train_dataset:\n",
        "        S = x.shape[1]\n",
        "        mask = create_look_ahead_mask(S)\n",
        "        out, _ = transformer(x.float(), mask)\n",
        "        loss = torch.nn.MSELoss()(out, y)\n",
        "        sum_train_loss += loss.item()\n",
        "        loss.backward()\n",
        "        optimizer.step()\n",
        "    losses.append(sum_train_loss / niter)\n",
        "    \n",
        "    # Evaluate on val set\n",
        "    transformer.eval()\n",
        "    sum_val_loss = 0.0\n",
        "    for i, (x, y) in enumerate(val_dataset):\n",
        "        S = x.shape[1]\n",
        "        mask = create_look_ahead_mask(S)\n",
        "        out, _ = transformer(x, mask)\n",
        "        loss = torch.nn.MSELoss()(out, y)\n",
        "        sum_val_loss += loss.item()\n",
        "    val_losses.append(sum_val_loss / (i + 1))"
      ]
    },
    {
      "cell_type": "code",
      "source": [
        "import pickle"
      ],
      "metadata": {
        "id": "Hni-LO7qZ6K6"
      },
      "execution_count": 190,
      "outputs": []
    },
    {
      "cell_type": "code",
      "source": [
        "filename = 'finalized_model.sav'\n",
        "pickle.dump(transformer, open(filename, 'wb'))"
      ],
      "metadata": {
        "id": "NZbM_QjKZvhq"
      },
      "execution_count": 191,
      "outputs": []
    },
    {
      "cell_type": "code",
      "execution_count": null,
      "metadata": {
        "id": "BVuuwrnAqtFc"
      },
      "outputs": [],
      "source": [
        "plt.plot(losses)\n",
        "plt.plot(val_losses)"
      ]
    },
    {
      "cell_type": "markdown",
      "metadata": {
        "id": "ALeWAQDFnAGx"
      },
      "source": [
        "### Evaluation on Test set"
      ]
    },
    {
      "cell_type": "code",
      "source": [
        "loaded_model = pickle.load(open(filename, 'rb'))"
      ],
      "metadata": {
        "id": "N_xypxStnWcP"
      },
      "execution_count": 193,
      "outputs": []
    },
    {
      "cell_type": "code",
      "source": [
        "type(test_dataset)"
      ],
      "metadata": {
        "colab": {
          "base_uri": "https://localhost:8080/"
        },
        "id": "gcQ8ZCkqntLy",
        "outputId": "044d3084-fb18-4529-dd1c-2a7518692dc1"
      },
      "execution_count": 194,
      "outputs": [
        {
          "output_type": "execute_result",
          "data": {
            "text/plain": [
              "torch.utils.data.dataloader.DataLoader"
            ]
          },
          "metadata": {},
          "execution_count": 194
        }
      ]
    },
    {
      "cell_type": "code",
      "execution_count": 195,
      "metadata": {
        "id": "zRJJ-39R257V",
        "colab": {
          "base_uri": "https://localhost:8080/"
        },
        "outputId": "83625475-1091-4bc4-aaea-a1dff1961064"
      },
      "outputs": [
        {
          "output_type": "execute_result",
          "data": {
            "text/plain": [
              "36958.460277777776"
            ]
          },
          "metadata": {},
          "execution_count": 195
        }
      ],
      "source": [
        "test_losses, test_preds  = [], []\n",
        "transformer.eval()\n",
        "for (x, y) in test_dataset:\n",
        "\n",
        "    S = x.shape[-2]\n",
        "    y_pred, _ = transformer(x, mask=create_look_ahead_mask(S))\n",
        "    y = y.cpu().detach().numpy()*data.std(axis=0)+data.mean(axis=0)\n",
        "    y_pred = y_pred.cpu().detach().numpy()*data.std(axis=0)+data.mean(axis=0)\n",
        "    \n",
        "    y = torch.tensor(y)\n",
        "    y_pred = torch.tensor(y_pred)\n",
        "    \n",
        "    loss_test = torch.nn.MSELoss()(torch.tensor(y_pred),torch.tensor(y))  # (B,S)\n",
        "    test_losses.append(loss_test.item())\n",
        "    test_preds.append(y_pred.detach().cpu().numpy())\n",
        "test_preds = np.vstack(test_preds)\n",
        "np.mean(test_losses)"
      ]
    },
    {
      "cell_type": "code",
      "source": [
        "x_test, _ = test_dataset.dataset.tensors\n",
        "x_test = x_test.cpu().detach().numpy()*data.std(axis=0)+data.mean(axis=0)"
      ],
      "metadata": {
        "id": "_QRdkgsILCyk"
      },
      "execution_count": 196,
      "outputs": []
    },
    {
      "cell_type": "code",
      "source": [
        "print(x_test)"
      ],
      "metadata": {
        "colab": {
          "base_uri": "https://localhost:8080/"
        },
        "id": "QtbOpilV6BTG",
        "outputId": "772b6c01-3baf-4d27-a3fc-0a33df1f85cc"
      },
      "execution_count": 197,
      "outputs": [
        {
          "output_type": "stream",
          "name": "stdout",
          "text": [
            "[[[ 298.]\n",
            "  [ 710.]\n",
            "  [ 836.]\n",
            "  ...\n",
            "  [ 552.]\n",
            "  [ 212.]\n",
            "  [ 287.]]\n",
            "\n",
            " [[ 726.]\n",
            "  [ 873.]\n",
            "  [ 578.]\n",
            "  ...\n",
            "  [ 198.]\n",
            "  [ 298.]\n",
            "  [ 408.]]\n",
            "\n",
            " [[1130.]\n",
            "  [ 809.]\n",
            "  [1039.]\n",
            "  ...\n",
            "  [1033.]\n",
            "  [ 748.]\n",
            "  [1118.]]\n",
            "\n",
            " ...\n",
            "\n",
            " [[ 426.]\n",
            "  [ 333.]\n",
            "  [ 943.]\n",
            "  ...\n",
            "  [ 420.]\n",
            "  [ 476.]\n",
            "  [ 412.]]\n",
            "\n",
            " [[ 192.]\n",
            "  [ 204.]\n",
            "  [  64.]\n",
            "  ...\n",
            "  [ 216.]\n",
            "  [ 314.]\n",
            "  [ 417.]]\n",
            "\n",
            " [[ 659.]\n",
            "  [  89.]\n",
            "  [ 358.]\n",
            "  ...\n",
            "  [ 498.]\n",
            "  [ 364.]\n",
            "  [ 485.]]]\n"
          ]
        }
      ]
    },
    {
      "cell_type": "code",
      "source": [
        "print(x_test.shape)"
      ],
      "metadata": {
        "colab": {
          "base_uri": "https://localhost:8080/"
        },
        "id": "WRifYv5ULMTN",
        "outputId": "4e240e93-8a68-45bc-9016-9aa7b38a428e"
      },
      "execution_count": 198,
      "outputs": [
        {
          "output_type": "stream",
          "name": "stdout",
          "text": [
            "(7200, 12, 1)\n"
          ]
        }
      ]
    },
    {
      "cell_type": "code",
      "source": [
        "print(y.shape)"
      ],
      "metadata": {
        "colab": {
          "base_uri": "https://localhost:8080/"
        },
        "id": "hF7Qiuu2K3fh",
        "outputId": "b7c40f57-3a02-4cc1-b924-0ab00bfdae36"
      },
      "execution_count": 199,
      "outputs": [
        {
          "output_type": "stream",
          "name": "stdout",
          "text": [
            "torch.Size([32, 12, 1])\n"
          ]
        }
      ]
    },
    {
      "cell_type": "code",
      "source": [
        "print(y_pred.shape)"
      ],
      "metadata": {
        "colab": {
          "base_uri": "https://localhost:8080/"
        },
        "id": "ot_P85CaK6tI",
        "outputId": "4d6965f4-f30a-4713-8ff7-9b38c7663303"
      },
      "execution_count": 200,
      "outputs": [
        {
          "output_type": "stream",
          "name": "stdout",
          "text": [
            "torch.Size([32, 12, 1])\n"
          ]
        }
      ]
    },
    {
      "cell_type": "code",
      "execution_count": 201,
      "metadata": {
        "id": "k1VCvxaklm0k",
        "colab": {
          "base_uri": "https://localhost:8080/",
          "height": 266
        },
        "outputId": "1bf46343-881a-4969-8abf-0bfcecc5553e"
      },
      "outputs": [
        {
          "output_type": "display_data",
          "data": {
            "text/plain": [
              "<Figure size 432x288 with 1 Axes>"
            ],
            "image/png": "[encoded data removed]"
          },
          "metadata": {
            "needs_background": "light"
          }
        }
      ],
      "source": [
        "seq_len = 12\n",
        "index = np.random.randint(32)\n",
        "feature_num = 0\n",
        "\n",
        "x_test = x_test[index, :, feature_num]\n",
        "pred = test_preds[index, :, feature_num]\n",
        "x = np.linspace(1, seq_len, seq_len)\n",
        "\n",
        "plt.plot(x, pred, 'red', lw=2, label='predictions for sample: {}'.format(index))\n",
        "plt.plot(x, x_test, 'cyan', lw=2, label='ground-truth for sample: {}'.format(index))\n",
        "plt.legend(fontsize=10)\n",
        "plt.show()"
      ]
    },
    {
      "cell_type": "code",
      "source": [
        ""
      ],
      "metadata": {
        "id": "rB414UJ3wU0s"
      },
      "execution_count": null,
      "outputs": []
    }
  ],
  "metadata": {
    "accelerator": "GPU",
    "colab": {
      "collapsed_sections": [],
      "name": "Copy of Hackrush_2",
      "provenance": []
    },
    "kernelspec": {
      "display_name": "Python 3",
      "language": "python",
      "name": "python3"
    },
    "language_info": {
      "codemirror_mode": {
        "name": "ipython",
        "version": 3
      },
      "file_extension": ".py",
      "mimetype": "text/x-python",
      "name": "python",
      "nbconvert_exporter": "python",
      "pygments_lexer": "ipython3",
      "version": "3.7.6"
    },
    "toc": {
      "base_numbering": 1,
      "nav_menu": {},
      "number_sections": true,
      "sideBar": true,
      "skip_h1_title": false,
      "title_cell": "Table of Contents",
      "title_sidebar": "Contents",
      "toc_cell": false,
      "toc_position": {},
      "toc_section_display": true,
      "toc_window_display": false
    }
  },
  "nbformat": 4,
  "nbformat_minor": 0
}
